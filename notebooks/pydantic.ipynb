{
 "cells": [
  {
   "cell_type": "markdown",
   "metadata": {},
   "source": [
    "<img src=\"../img/emagine-logo.png\" width=300 height=200/>"
   ]
  },
  {
   "cell_type": "markdown",
   "metadata": {},
   "source": [
    "### Pydantic\n",
    "\n",
    "Data validation and settings management using python type annotations.\n",
    "\n",
    "pydantic enforces type hints at runtime, and provides user friendly errors when data is invalid.\n",
    "\n",
    "Docs: https://pydantic-docs.helpmanual.io/\n",
    "\n",
    "Code: https://github.com/samuelcolvin/pydantic\n",
    "\n",
    "PYPI: https://pypi.org/project/pydantic/"
   ]
  },
  {
   "cell_type": "code",
   "execution_count": 1,
   "metadata": {},
   "outputs": [
    {
     "name": "stdout",
     "output_type": "stream",
     "text": [
      "Value: 123, Type: <class 'int'>\n"
     ]
    }
   ],
   "source": [
    "# API Introduction\n",
    "\n",
    "from pydantic import BaseModel\n",
    "\n",
    "class MyModel(BaseModel):\n",
    "    value: int\n",
    "\n",
    "\n",
    "model = MyModel(value=123)\n",
    "# model = MyModel(value='123')  # implicit int conversion\n",
    "# model = MyModel(value='aaa')  # failure, not valid int\n",
    "\n",
    "print('Value: {}, Type: {}'.format(model.value, type(model.value)))"
   ]
  },
  {
   "cell_type": "code",
   "execution_count": 2,
   "metadata": {},
   "outputs": [
    {
     "name": "stdout",
     "output_type": "stream",
     "text": [
      "Value: 123, Type: <class 'int'>\n"
     ]
    }
   ],
   "source": [
    "# Single value, multiple types\n",
    "from typing import Union\n",
    "\n",
    "\n",
    "class MyModel(BaseModel):\n",
    "    # For unions, type conversion will start from leftmost to rightmost\n",
    "    # Try to convert value to int first - str second\n",
    "    value: Union[int, str]\n",
    "    \n",
    "    # Try to convert value to str first - int second.\n",
    "    # However anything can be converted to str so int conversion will never happen.\n",
    "    # value: Union[str, int]\n",
    "    \n",
    "\n",
    "# model = MyModel(value=123)  # use int\n",
    "model = MyModel(value='123')  # str -> int\n",
    "# model = MyModel(value='aaa')  # str -> int FAIL, fallback to str\n",
    "\n",
    "print('Value: {}, Type: {}'.format(model.value, type(model.value)))\n"
   ]
  },
  {
   "cell_type": "code",
   "execution_count": 3,
   "metadata": {},
   "outputs": [
    {
     "name": "stdout",
     "output_type": "stream",
     "text": [
      "Value: 12, Type: <class 'int'>\n"
     ]
    }
   ],
   "source": [
    "# Single value, multiple types, custom error msg\n",
    "\n",
    "from pydantic import validator\n",
    "\n",
    "MIN = 10\n",
    "MAX = 50\n",
    "\n",
    "class MyModel(BaseModel):\n",
    "    # For unions, type conversion will start from leftmost to rightmost\n",
    "    # Try to convert value to int first - str second\n",
    "    value: Union[int, str]\n",
    "    \n",
    "    # Try to convert value to str first - int second.\n",
    "    # However anything can be converted to str so int conversion will never happen.\n",
    "    # value: Union[str, int]\n",
    "    \n",
    "    @validator('value')\n",
    "    def test_range(cls, v):\n",
    "        # Check range for numerical values\n",
    "        if isinstance(v, int):\n",
    "            if not (MIN <= v <= MAX):\n",
    "                raise ValueError(\"Value ({}) should be between {} - {}\".format(v, MIN, MAX))\n",
    "        return v\n",
    "    \n",
    "\n",
    "model = MyModel(value=12)  # range valid\n",
    "# model = MyModel(value='12')  # convert to int -> range valid\n",
    "# model = MyModel(value=105)  # range invalid\n",
    "# model = MyModel(value='205')  # convert to int -> range invalid\n",
    "# model = MyModel(value='aaa')  # fallback to str type, range check skipped\n",
    "\n",
    "\n",
    "print('Value: {}, Type: {}'.format(model.value, type(model.value)))\n"
   ]
  },
  {
   "cell_type": "code",
   "execution_count": 4,
   "metadata": {},
   "outputs": [
    {
     "name": "stdout",
     "output_type": "stream",
     "text": [
      "Value: []\n"
     ]
    }
   ],
   "source": [
    "# List validation (for each item)\n",
    "\n",
    "from typing import List\n",
    "\n",
    "\n",
    "MIN = 10\n",
    "MAX = 50\n",
    "\n",
    "MAX_LENGTH = 5\n",
    "\n",
    "\n",
    "class MyModel(BaseModel):\n",
    "    values: List[int] = []  # allow list of integers, with default empty list value\n",
    "\n",
    "    @validator('values', each_item=True)\n",
    "    def check_item_range(cls, v):\n",
    "        assert MIN <= v <= MAX, \"List item ({}) should be between {} - {}\".format(v, MIN, MAX)\n",
    "        return v\n",
    "    \n",
    "    @validator('values')\n",
    "    def check_list_length(cls, v):\n",
    "        assert len(v) <= MAX_LENGTH, \"List cannot have more than {} items\".format(len(v))\n",
    "        return v\n",
    "        \n",
    "        \n",
    "model = MyModel()  # no value given, using empty list default\n",
    "# model = MyModel(values=[10, 20, 30])  # valid\n",
    "# model = MyModel(values=[10, 20, 200])  # check_item_range failure\n",
    "# model = MyModel(values=[10, 20, 25, 30, 35, 50])  # check_list_length failure\n",
    "\n",
    "\n",
    "print('Value: {}'.format(model.values))\n"
   ]
  },
  {
   "cell_type": "code",
   "execution_count": 5,
   "metadata": {},
   "outputs": [
    {
     "data": {
      "text/plain": [
       "{'first_name': 'John',\n",
       " 'last_name': 'Smith',\n",
       " 'birth_date': datetime.date(1970, 5, 12),\n",
       " 'job_start_date': datetime.date(1970, 5, 12)}"
      ]
     },
     "execution_count": 5,
     "metadata": {},
     "output_type": "execute_result"
    }
   ],
   "source": [
    "# Dictionary validation\n",
    "import datetime\n",
    "\n",
    "\n",
    "\n",
    "class MyModel(BaseModel):\n",
    "    \n",
    "    first_name: str\n",
    "    last_name: str\n",
    "    birth_date: datetime.date\n",
    "    job_start_date: datetime.date\n",
    "\n",
    "\n",
    "\n",
    "DATA = {\n",
    "    'first_name': 'John',\n",
    "    'last_name': 'Smith',\n",
    "    'birth_date': datetime.date(1970, 5, 12),\n",
    "    'job_start_date': datetime.date(1970, 5, 12),\n",
    "}\n",
    "\n",
    "\n",
    "model = MyModel(**DATA)\n",
    "\n",
    "model.dict()"
   ]
  },
  {
   "cell_type": "code",
   "execution_count": 6,
   "metadata": {},
   "outputs": [
    {
     "ename": "ValidationError",
     "evalue": "1 validation error for MyModel\nlast_name\n  field required (type=value_error.missing)",
     "output_type": "error",
     "traceback": [
      "\u001b[0;31m---------------------------------------------------------------------------\u001b[0m",
      "\u001b[0;31mValidationError\u001b[0m                           Traceback (most recent call last)",
      "\u001b[0;32m<ipython-input-6-fc0da011af7c>\u001b[0m in \u001b[0;36m<module>\u001b[0;34m\u001b[0m\n\u001b[1;32m      9\u001b[0m }\n\u001b[1;32m     10\u001b[0m \u001b[0;34m\u001b[0m\u001b[0m\n\u001b[0;32m---> 11\u001b[0;31m \u001b[0mmodel\u001b[0m \u001b[0;34m=\u001b[0m \u001b[0mMyModel\u001b[0m\u001b[0;34m(\u001b[0m\u001b[0;34m**\u001b[0m\u001b[0mDATA\u001b[0m\u001b[0;34m)\u001b[0m\u001b[0;34m\u001b[0m\u001b[0;34m\u001b[0m\u001b[0m\n\u001b[0m\u001b[1;32m     12\u001b[0m \u001b[0mmodel\u001b[0m\u001b[0;34m.\u001b[0m\u001b[0mdict\u001b[0m\u001b[0;34m(\u001b[0m\u001b[0;34m)\u001b[0m\u001b[0;34m\u001b[0m\u001b[0;34m\u001b[0m\u001b[0m\n",
      "\u001b[0;32m~/code/validation/venv/lib/python3.8/site-packages/pydantic/main.cpython-38-darwin.so\u001b[0m in \u001b[0;36mpydantic.main.BaseModel.__init__\u001b[0;34m()\u001b[0m\n",
      "\u001b[0;31mValidationError\u001b[0m: 1 validation error for MyModel\nlast_name\n  field required (type=value_error.missing)"
     ]
    }
   ],
   "source": [
    "# Default behaviour for missing keys is ERROR\n",
    "# e.g. any key that's missing without any defaults will cause validation error\n",
    "\n",
    "DATA = {\n",
    "    'first_name': 'John',\n",
    "    #'last_name': 'Smith',\n",
    "    'birth_date': datetime.date(1970, 5, 12),\n",
    "    'job_start_date': datetime.date(1970, 5, 12),\n",
    "}\n",
    "\n",
    "model = MyModel(**DATA)\n",
    "model.dict()"
   ]
  },
  {
   "cell_type": "code",
   "execution_count": 7,
   "metadata": {},
   "outputs": [
    {
     "data": {
      "text/plain": [
       "{'first_name': 'John',\n",
       " 'middle_name': None,\n",
       " 'last_name': 'Smith',\n",
       " 'birth_date': datetime.date(1970, 5, 12),\n",
       " 'job_start_date': datetime.date(1970, 5, 12)}"
      ]
     },
     "execution_count": 7,
     "metadata": {},
     "output_type": "execute_result"
    }
   ],
   "source": [
    "# Optional keys\n",
    "\n",
    "from typing import Optional\n",
    "\n",
    "\n",
    "class MyModel(BaseModel):\n",
    "    \n",
    "    first_name: str\n",
    "    middle_name: Optional[str] = None\n",
    "    last_name: str\n",
    "    birth_date: datetime.date\n",
    "    job_start_date: datetime.date\n",
    "        \n",
    "\n",
    "DATA_1 = {\n",
    "    'first_name': 'John',\n",
    "    'last_name': 'Smith',\n",
    "    'birth_date': datetime.date(1970, 5, 12),\n",
    "    'job_start_date': datetime.date(1970, 5, 12),\n",
    "}\n",
    "\n",
    "\n",
    "DATA_2 = {\n",
    "    'first_name': 'John',\n",
    "    'middle_name': 'Edward',\n",
    "    'last_name': 'Smith',\n",
    "    'birth_date': datetime.date(1970, 5, 12),\n",
    "    'job_start_date': datetime.date(1970, 5, 12),    \n",
    "}\n",
    "\n",
    "        \n",
    "        \n",
    "model = MyModel(**DATA_1)\n",
    "# model = MyModel(**DATA_2)\n",
    "model.dict()"
   ]
  },
  {
   "cell_type": "code",
   "execution_count": 8,
   "metadata": {},
   "outputs": [
    {
     "data": {
      "text/plain": [
       "{'first_name': 'John',\n",
       " 'middle_name': None,\n",
       " 'last_name': 'Smith',\n",
       " 'birth_date': datetime.date(1970, 5, 12),\n",
       " 'job_start_date': datetime.date(1970, 5, 12)}"
      ]
     },
     "execution_count": 8,
     "metadata": {},
     "output_type": "execute_result"
    }
   ],
   "source": [
    "# Extra keys\n",
    "\n",
    "# Default behaviour for extra keys is IGNORE\n",
    "\n",
    "\n",
    "class MyModel(BaseModel):\n",
    "    \n",
    "    first_name: str\n",
    "    middle_name: Optional[str] = None\n",
    "    last_name: str\n",
    "    birth_date: datetime.date\n",
    "    job_start_date: datetime.date\n",
    "        \n",
    "    \n",
    "DATA = {\n",
    "    'first_name': 'John',\n",
    "    'last_name': 'Smith',\n",
    "    'birth_date': datetime.date(1970, 5, 12),\n",
    "    'job_start_date': datetime.date(1970, 5, 12),\n",
    "    'is_active': True\n",
    "}\n",
    "\n",
    "# Extra key behaviour can be configured via Config class: \n",
    "# https://pydantic-docs.helpmanual.io/usage/model_config/\n",
    "\n",
    "class MyModel2(MyModel):\n",
    "    \n",
    "    class Config:\n",
    "        extra = 'allow'\n",
    "        \n",
    "\n",
    "class MyModel3(MyModel):\n",
    "\n",
    "    class Config:\n",
    "        extra = 'forbid'\n",
    "\n",
    "\n",
    "model = MyModel(**DATA)  # ignore is_active\n",
    "# model = MyModel2(**DATA)  # allow is_active\n",
    "# model = MyModel3(**DATA)  # validation error\n",
    "\n",
    "model.dict()"
   ]
  },
  {
   "cell_type": "code",
   "execution_count": 9,
   "metadata": {},
   "outputs": [
    {
     "data": {
      "text/plain": [
       "{'first_name': 'John',\n",
       " 'middle_name': 'Robert',\n",
       " 'last_name': 'Smith',\n",
       " 'birth_date': datetime.date(1970, 5, 12),\n",
       " 'job_start_date': datetime.date(1985, 1, 12)}"
      ]
     },
     "execution_count": 9,
     "metadata": {},
     "output_type": "execute_result"
    }
   ],
   "source": [
    "# Interdependent field validation\n",
    "\n",
    "# Some validation rules can take multiple keys into account:\n",
    "# E.g. job_start_date cannot be smaller or equal to birth_date\n",
    "\n",
    "# More details on validators: https://pydantic-docs.helpmanual.io/usage/validators/\n",
    "\n",
    "\n",
    "class MyModel(BaseModel):\n",
    "    \n",
    "    first_name: str\n",
    "    middle_name: Optional[str] = None\n",
    "    last_name: str\n",
    "    birth_date: datetime.date\n",
    "    job_start_date: datetime.date\n",
    "        \n",
    "    @validator('job_start_date')\n",
    "    def validate_job_start(cls, v, values, **kwargs):\n",
    "        job_start_date = v\n",
    "        birth_date = values['birth_date']\n",
    "        if v <= birth_date:\n",
    "            raise ValueError(\n",
    "                'birth_date ({}) cannot be larger than job_start_date: {}'.format(\n",
    "                    birth_date, job_start_date))\n",
    "        return v\n",
    "    \n",
    "    \n",
    "DATA = {\n",
    "    'first_name': 'John',\n",
    "    'middle_name': 'Robert',\n",
    "    'last_name': 'Smith',\n",
    "    'birth_date': datetime.date(1970, 5, 12),\n",
    "    'job_start_date': datetime.date(1965, 5, 12),\n",
    "}\n",
    "\n",
    "\n",
    "DATA_2 = dict(DATA, job_start_date=datetime.date(1985, 1, 12))\n",
    "        \n",
    "    \n",
    "# model = MyModel(**DATA)  # fail\n",
    "model = MyModel(**DATA_2)  # pass\n",
    "\n",
    "model.dict()"
   ]
  },
  {
   "cell_type": "code",
   "execution_count": 10,
   "metadata": {},
   "outputs": [],
   "source": [
    "# More thorough validation\n",
    "\n",
    "# middle_name -> Optional, with explicit None value\n",
    "\n",
    "# Strings -> \n",
    "#     Make sure each letter is alphabetical, with some special character allowance (O'Neill, Day-Lewis)\n",
    "#     Ensure single spaces between words (some names may have spaces, e.g. 'van der Bellen')\n",
    "#     Normalize to all caps\n",
    "#     Trim whitespace\n",
    "#     Should have length greater than 0 after trimming\n",
    "\n",
    "# Dates -> Accept both isodate formatted string as well as python date objects"
   ]
  },
  {
   "cell_type": "code",
   "execution_count": 11,
   "metadata": {},
   "outputs": [
    {
     "data": {
      "text/plain": [
       "{'first_name': 'JOHN',\n",
       " 'middle_name': 'ROBERT',\n",
       " 'last_name': 'SMITH',\n",
       " 'birth_date': datetime.date(1970, 5, 2),\n",
       " 'job_start_date': datetime.date(1985, 5, 12)}"
      ]
     },
     "execution_count": 11,
     "metadata": {},
     "output_type": "execute_result"
    }
   ],
   "source": [
    "class CleanString(str):\n",
    "\n",
    "    SPECIAL_CHARACTERS = (' ', \"'\", \"-\")\n",
    "\n",
    "    @classmethod\n",
    "    def __get_validators__(cls):\n",
    "        yield cls.clean_string\n",
    "\n",
    "    @classmethod\n",
    "    def clean_string(cls, v):\n",
    "\n",
    "        cleaned = ' '.join([w.upper() for w in v.split(' ') if w]).strip()\n",
    "\n",
    "        if not cleaned:\n",
    "            raise ValueError('Invalid value: {}'.format(v))\n",
    "\n",
    "        for idx, char in enumerate(cleaned):\n",
    "            if not (char.isalpha() or char in special_characters):\n",
    "                raise ValueError('Character ({}) at index {} is not alphabetical'.format(char, idx))\n",
    "\n",
    "        return cleaned\n",
    "\n",
    "    \n",
    "class Date(object):\n",
    "    \n",
    "    @classmethod\n",
    "    def __get_validators__(cls):\n",
    "        yield cls.parse_date\n",
    "        \n",
    "    @classmethod\n",
    "    def parse_date(cls, v):\n",
    "        if isinstance(v, datetime.date):\n",
    "            return v\n",
    "        try:\n",
    "            return datetime.datetime.strptime(v, '%Y-%m-%d').date()\n",
    "        except ValueError:\n",
    "            raise ValueError(\"Incorrect data format, should be YYYY-MM-DD\")\n",
    "    \n",
    "\n",
    "\n",
    "class Employee(BaseModel):\n",
    "    \n",
    "    first_name: CleanString\n",
    "    middle_name: Optional[CleanString] = None\n",
    "    last_name: CleanString\n",
    "    birth_date: Date\n",
    "    job_start_date: Date\n",
    "    \n",
    "    \n",
    "DATA = {\n",
    "    'first_name': 'JOHN',\n",
    "    'middle_name': 'robert',\n",
    "    'last_name': 'SMiTh',\n",
    "    'birth_date': '1970-5-2',\n",
    "    'job_start_date': datetime.date(1985, 5, 12),\n",
    "}\n",
    "\n",
    "\n",
    "model = Employee(**DATA)  # pass\n",
    "model.dict()"
   ]
  },
  {
   "cell_type": "code",
   "execution_count": 12,
   "metadata": {},
   "outputs": [
    {
     "data": {
      "text/plain": [
       "{'name': 'SALES',\n",
       " 'employees': [{'first_name': 'BARBARA',\n",
       "   'middle_name': None,\n",
       "   'last_name': 'BROWN',\n",
       "   'birth_date': datetime.date(1985, 2, 5),\n",
       "   'job_start_date': datetime.date(1995, 7, 2)},\n",
       "  {'first_name': 'MARTIN',\n",
       "   'middle_name': None,\n",
       "   'last_name': 'ANDERSON',\n",
       "   'birth_date': datetime.date(1979, 9, 3),\n",
       "   'job_start_date': datetime.date(1982, 1, 1)}]}"
      ]
     },
     "execution_count": 12,
     "metadata": {},
     "output_type": "execute_result"
    }
   ],
   "source": [
    "# Nested validation\n",
    "# We can use previously defined models for nested validation\n",
    "\n",
    "\n",
    "class Department(BaseModel):\n",
    "    \n",
    "    name: CleanString\n",
    "    employees: List[Employee]\n",
    "\n",
    "\n",
    "SALES_DEPT = {\n",
    "    'name': 'Sales',\n",
    "    'employees': [\n",
    "        {\n",
    "            'first_name': 'Barbara',\n",
    "            'last_name': 'Brown',\n",
    "            'birth_date': datetime.date(1985, 2, 5),\n",
    "            'job_start_date': datetime.date(1995, 7, 2),\n",
    "        },\n",
    "        {\n",
    "            'first_name': 'martin',\n",
    "            'last_name': 'anderson',\n",
    "            'birth_date': '1979-9-3',\n",
    "            'job_start_date': '1982-1-1',\n",
    "        },\n",
    "    ]\n",
    "}\n",
    "\n",
    "\n",
    "model = Department(**SALES_DEPT)\n",
    "model.dict()"
   ]
  },
  {
   "cell_type": "code",
   "execution_count": null,
   "metadata": {},
   "outputs": [],
   "source": []
  },
  {
   "cell_type": "code",
   "execution_count": null,
   "metadata": {},
   "outputs": [],
   "source": []
  }
 ],
 "metadata": {
  "kernelspec": {
   "display_name": "Python 3",
   "language": "python",
   "name": "python3"
  },
  "language_info": {
   "codemirror_mode": {
    "name": "ipython",
    "version": 3
   },
   "file_extension": ".py",
   "mimetype": "text/x-python",
   "name": "python",
   "nbconvert_exporter": "python",
   "pygments_lexer": "ipython3",
   "version": "3.8.4"
  }
 },
 "nbformat": 4,
 "nbformat_minor": 4
}
