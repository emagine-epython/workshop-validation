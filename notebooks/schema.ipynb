{
 "cells": [
  {
   "cell_type": "markdown",
   "metadata": {},
   "source": [
    "<img src=\"../img/emagine-logo.png\" width=300 height=200/>"
   ]
  },
  {
   "cell_type": "markdown",
   "metadata": {},
   "source": [
    "### schema\n",
    "\n",
    "From docs:\n",
    "\n",
    "schema is a library for validating Python data structures, such as those obtained from config-files, forms, external services or command-line parsing, converted from JSON/YAML (or something else) to Python data-types.\n",
    "\n",
    "Higlights:\n",
    "\n",
    "* Single file lib (can copy paste into your repo if pip etc is not available / allowed)\n",
    "* Simple API\n",
    "* (New) Support for validation rule exports via JSON schema.\n",
    "\n",
    "Docs: https://github.com/keleshev/schema/blob/master/README.rst\n",
    "\n",
    "Code: https://github.com/keleshev/schema\n",
    "\n",
    "PYPI: https://pypi.org/project/schema/"
   ]
  },
  {
   "cell_type": "code",
   "execution_count": 56,
   "metadata": {},
   "outputs": [
    {
     "data": {
      "text/plain": [
       "5"
      ]
     },
     "execution_count": 56,
     "metadata": {},
     "output_type": "execute_result"
    }
   ],
   "source": [
    "# API Introduction\n",
    "from schema import Schema\n",
    "\n",
    "sch = Schema(int)\n",
    "\n",
    "# Single value\n",
    "# sch.validate('a') # invalid\n",
    "sch.validate(5)  # valid "
   ]
  },
  {
   "cell_type": "code",
   "execution_count": 57,
   "metadata": {},
   "outputs": [],
   "source": [
    "# Single value, multiple types, custom error msg\n",
    "\n",
    "from schema import Or\n",
    "\n",
    "sch = Or(int, str, error='Please provide either int or str type')\n",
    "\n",
    "# sch.validate('a') # valid\n",
    "# sch.validate(5)  # valid \n",
    "# sch.validate(2.5)  # invalid "
   ]
  },
  {
   "cell_type": "code",
   "execution_count": 58,
   "metadata": {},
   "outputs": [],
   "source": [
    "# Single value, multiple rules\n",
    "\n",
    "from schema import And, SchemaError\n",
    "\n",
    "MIN = 10\n",
    "MAX = 50\n",
    "\n",
    "\n",
    "def check_interval(value):\n",
    "    if not MIN <= value <= MAX:\n",
    "        raise SchemaError('Value ({}) must be between {} - {} (inclusive)'.format(value, MIN, MAX))\n",
    "    return True\n",
    "\n",
    "sch = And(int, check_interval)\n",
    "\n",
    "# sch.validate('a')  # invalid\n",
    "# sch.validate(9)  # invalid\n",
    "# sch.validate(10.5)  # invalid\n",
    "# sch.validate(10)  # valid"
   ]
  },
  {
   "cell_type": "code",
   "execution_count": 59,
   "metadata": {},
   "outputs": [],
   "source": [
    "# Single value, multiple types, multiple rules\n",
    "\n",
    "sch = And(Or(int, float), check_interval)\n",
    "\n",
    "# sch.validate(10)  # valid\n",
    "# sch.validate(10.5)  # valid"
   ]
  },
  {
   "cell_type": "code",
   "execution_count": 60,
   "metadata": {},
   "outputs": [],
   "source": [
    "# List validation (for each item)\n",
    "\n",
    "# similar to above rule, just with extra list brackets\n",
    "sch = Schema([And(Or(int, float), check_interval)])\n",
    "\n",
    "# sch.validate([10, 11, 12])  # valid\n",
    "# sch.validate([10, 11, 'foo'])  # invalid"
   ]
  },
  {
   "cell_type": "code",
   "execution_count": 61,
   "metadata": {},
   "outputs": [
    {
     "data": {
      "text/plain": [
       "{'first_name': 'John',\n",
       " 'last_name': 'Smith',\n",
       " 'birth_date': datetime.date(1970, 5, 12),\n",
       " 'job_start_date': datetime.date(1970, 5, 12)}"
      ]
     },
     "execution_count": 61,
     "metadata": {},
     "output_type": "execute_result"
    }
   ],
   "source": [
    "# Dictionary validation\n",
    "\n",
    "import datetime\n",
    "\n",
    "sch = Schema({\n",
    "    'first_name': str,\n",
    "    'last_name': str,\n",
    "    'birth_date': datetime.date,\n",
    "    'job_start_date': datetime.date\n",
    "})\n",
    "\n",
    "\n",
    "DATA = {\n",
    "    'first_name': 'John',\n",
    "    'last_name': 'Smith',\n",
    "    'birth_date': datetime.date(1970, 5, 12),\n",
    "    'job_start_date': datetime.date(1970, 5, 12),\n",
    "}\n",
    "\n",
    "sch.validate(DATA)"
   ]
  },
  {
   "cell_type": "code",
   "execution_count": 62,
   "metadata": {},
   "outputs": [],
   "source": [
    "# Default behaviour for missing keys is ERROR\n",
    "# e.g. any key that's defined within dictionary schema will be mandatory\n",
    "\n",
    "DATA = {\n",
    "    'first_name': 'John',\n",
    "    'birth_date': datetime.date(1970, 5, 12),\n",
    "    'job_start_date': datetime.date(1970, 5, 12),\n",
    "}\n",
    "\n",
    "# sch.validate(DATA)"
   ]
  },
  {
   "cell_type": "code",
   "execution_count": 63,
   "metadata": {},
   "outputs": [
    {
     "data": {
      "text/plain": [
       "{'first_name': 'John',\n",
       " 'middle_name': None,\n",
       " 'last_name': 'Smith',\n",
       " 'birth_date': datetime.date(1970, 5, 12),\n",
       " 'job_start_date': datetime.date(1970, 5, 12)}"
      ]
     },
     "execution_count": 63,
     "metadata": {},
     "output_type": "execute_result"
    }
   ],
   "source": [
    "# Optional keys\n",
    "\n",
    "from schema import Optional\n",
    "\n",
    "# Optional -> allows key to be left out\n",
    "\n",
    "DATA_MIDDLE_NAME_MISSING = {\n",
    "    'first_name': 'John',\n",
    "    'last_name': 'Smith',\n",
    "    'birth_date': datetime.date(1970, 5, 12),\n",
    "    'job_start_date': datetime.date(1970, 5, 12),\n",
    "}\n",
    "\n",
    "DATA_MIDDLE_NAME_NONE = {\n",
    "    'first_name': 'John',\n",
    "    'middle_name': None,\n",
    "    'last_name': 'Smith',\n",
    "    'birth_date': datetime.date(1970, 5, 12),\n",
    "    'job_start_date': datetime.date(1970, 5, 12),\n",
    "}\n",
    "\n",
    "sch = Schema({\n",
    "    'first_name': str,\n",
    "    Optional('middle_name', default=None): Or(str, None), # If middle_name is missing use None as default value,\n",
    "                                                          # while also allowing explicit None value\n",
    "    'last_name': str,\n",
    "    'birth_date': datetime.date,\n",
    "    'job_start_date': datetime.date,\n",
    "})\n",
    "\n",
    "\n",
    "# sch.validate(DATA_MIDDLE_NAME_MISSING)  # pass\n",
    "sch.validate(DATA_MIDDLE_NAME_NONE)  # pass"
   ]
  },
  {
   "cell_type": "code",
   "execution_count": 64,
   "metadata": {},
   "outputs": [],
   "source": [
    "# Extra keys\n",
    "\n",
    "# Default behaviour for extra keys is ERROR\n",
    "\n",
    "sch = Schema({\n",
    "    'first_name': str,\n",
    "    'last_name': str,\n",
    "    'birth_date': datetime.date,\n",
    "    'job_start_date': datetime.date\n",
    "})\n",
    "\n",
    "\n",
    "# Allow extra keys, str <>\n",
    "# Allow any extra str key <> bool / str value pair\n",
    "\n",
    "sch2 = Schema({\n",
    "    'first_name': str,\n",
    "    'last_name': str,\n",
    "    'birth_date': datetime.date,\n",
    "    'job_start_date': datetime.date,\n",
    "    str: Or(str, bool),\n",
    "})\n",
    "\n",
    "\n",
    "# Allow any type of key / value pair\n",
    "# Very permissive (not recommended)\n",
    "\n",
    "sch3 = Schema({\n",
    "    'first_name': str,\n",
    "    'last_name': str,\n",
    "    'birth_date': datetime.date,\n",
    "    'job_start_date': datetime.date,\n",
    "    object: object,\n",
    "})\n",
    "\n",
    "\n",
    "\n",
    "DATA  = {\n",
    "    'first_name': 'John',\n",
    "    'last_name': 'Smith',\n",
    "    'birth_date': datetime.date(1970, 5, 12),\n",
    "    'job_start_date': datetime.date(1970, 5, 12),\n",
    "    'is_active': True,\n",
    "    'city': 'London',\n",
    "}\n",
    "\n",
    "# sch.validate(DATA)\n",
    "# sch2.validate(DATA)\n",
    "# sch3.validate(DATA)"
   ]
  },
  {
   "cell_type": "code",
   "execution_count": 65,
   "metadata": {},
   "outputs": [
    {
     "data": {
      "text/plain": [
       "{'first_name': 'John',\n",
       " 'middle_name': 'Robert',\n",
       " 'last_name': 'Smith',\n",
       " 'birth_date': datetime.date(1970, 5, 12),\n",
       " 'job_start_date': datetime.date(1985, 1, 12)}"
      ]
     },
     "execution_count": 65,
     "metadata": {},
     "output_type": "execute_result"
    }
   ],
   "source": [
    "# Interdependent field validation\n",
    "\n",
    "# Some validation rules can take multiple keys into account:\n",
    "# E.g. job_start_date cannot be smaller or equal to birth_date\n",
    "\n",
    "def check_job_start_date(data):\n",
    "    # Make sure you return data if it is valid\n",
    "    job_start_date, birth_date = data['job_start_date'], data['birth_date']\n",
    "    if job_start_date <= birth_date:\n",
    "        raise SchemaError(\n",
    "            'job_start_date ({}) must be greater than birth_date ({})'.format(job_start_date, birth_date))\n",
    "    return True\n",
    "\n",
    "        \n",
    "sch = Schema(\n",
    "    And(\n",
    "        {\n",
    "            'first_name': str,\n",
    "            'last_name': str,\n",
    "            Optional('middle_name'): str,\n",
    "            'birth_date': datetime.date,\n",
    "            'job_start_date': datetime.date,\n",
    "        },\n",
    "        check_job_start_date\n",
    "    )\n",
    ")\n",
    "\n",
    "DATA = {\n",
    "    'first_name': 'John',\n",
    "    'middle_name': 'Robert',\n",
    "    'last_name': 'Smith',\n",
    "    'birth_date': datetime.date(1970, 5, 12),\n",
    "    'job_start_date': datetime.date(1965, 5, 12),\n",
    "}\n",
    "\n",
    "\n",
    "DATA_2 = dict(DATA, job_start_date=datetime.date(1985, 1, 12))\n",
    "        \n",
    "# sch.validate(DATA) # fail\n",
    "sch.validate(DATA_2)  # pass"
   ]
  },
  {
   "cell_type": "code",
   "execution_count": 66,
   "metadata": {},
   "outputs": [],
   "source": [
    "# More thorough validation\n",
    "\n",
    "# middle_name -> Optional, with explicit None value\n",
    "\n",
    "# Strings -> \n",
    "#     Make sure each letter is alphabetical, with some special character allowance (O'Neill, Day-Lewis)\n",
    "#     Ensure single spaces between words (some names may have spaces, e.g. 'van der Bellen')\n",
    "#     Normalize to all caps\n",
    "#     Trim whitespace\n",
    "#     Should have length greater than 0 after trimming\n",
    "\n",
    "# Dates -> Accept both isodate formatted string as well as python date objects"
   ]
  },
  {
   "cell_type": "code",
   "execution_count": 67,
   "metadata": {},
   "outputs": [
    {
     "data": {
      "text/plain": [
       "{'first_name': 'JOHN',\n",
       " 'middle_name': 'ROBERT',\n",
       " 'last_name': 'SMITH',\n",
       " 'birth_date': datetime.date(1970, 5, 2),\n",
       " 'job_start_date': datetime.date(1985, 5, 12)}"
      ]
     },
     "execution_count": 67,
     "metadata": {},
     "output_type": "execute_result"
    }
   ],
   "source": [
    "def clean_string(value, special_characters=(' ', \"'\", \"-\")):\n",
    "    \n",
    "    cleaned = ' '.join([w.upper() for w in value.split(' ') if w]).strip()\n",
    "    \n",
    "    if not cleaned:\n",
    "        raise SchemaError('Invalid value: {}'.format(value))\n",
    "        \n",
    "    for idx, char in enumerate(cleaned):\n",
    "        if not (char.isalpha() or char in special_characters):\n",
    "            raise SchemaError('Character ({}) at index {} is not alphabetical'.format(char, idx))\n",
    "        \n",
    "    return cleaned\n",
    "\n",
    "\n",
    "def parse_date(value):\n",
    "    try:\n",
    "        return datetime.datetime.strptime(value, '%Y-%m-%d').date()\n",
    "    except ValueError:\n",
    "        raise ValueError(\"Incorrect data format, should be YYYY-MM-DD\")\n",
    "\n",
    "\n",
    "# schema does not change input value unless you use \"Use\" explicitly\n",
    "# Read more (v 0.7.3): https://github.com/keleshev/schema/blob/master/schema.py#L226\n",
    "\n",
    "from schema import Use\n",
    "\n",
    "        \n",
    "CLEANED_STRING = And(str, Use(clean_string))\n",
    "\n",
    "\n",
    "# Use either of:\n",
    "#    a- Isoformatted date string validation -> parsed date value\n",
    "#    b- Date value directly if it is datetime.date\n",
    "\n",
    "DATE = Or(\n",
    "    datetime.date,\n",
    "    Use(parse_date),\n",
    ")\n",
    "\n",
    "\n",
    "employee_schema = Schema(\n",
    "    And(\n",
    "        Schema({\n",
    "            'first_name': CLEANED_STRING,\n",
    "            'last_name': CLEANED_STRING,\n",
    "            Optional('middle_name', default=None): Or(CLEANED_STRING, None),\n",
    "            'birth_date': DATE,\n",
    "            'job_start_date': DATE,\n",
    "        }),\n",
    "        check_job_start_date,\n",
    "    ),\n",
    ")\n",
    "\n",
    "employee_schema.validate({\n",
    "    'first_name': 'JOHN',\n",
    "    'middle_name': 'robert',\n",
    "    'last_name': 'SMiTh',\n",
    "    'birth_date': '1970-5-2',\n",
    "    'job_start_date': datetime.date(1985, 5, 12),\n",
    "})\n"
   ]
  },
  {
   "cell_type": "code",
   "execution_count": 68,
   "metadata": {},
   "outputs": [
    {
     "data": {
      "text/plain": [
       "{'name': 'SALES',\n",
       " 'employees': [{'first_name': 'BARBARA',\n",
       "   'last_name': 'BROWN',\n",
       "   'birth_date': datetime.date(1985, 2, 5),\n",
       "   'job_start_date': datetime.date(1995, 7, 2),\n",
       "   'middle_name': None},\n",
       "  {'first_name': 'MARTIN',\n",
       "   'last_name': 'ANDERSON',\n",
       "   'birth_date': datetime.date(1979, 9, 3),\n",
       "   'job_start_date': datetime.date(1982, 1, 1),\n",
       "   'middle_name': None}]}"
      ]
     },
     "execution_count": 68,
     "metadata": {},
     "output_type": "execute_result"
    }
   ],
   "source": [
    "# Nested validation\n",
    "# We can use previously defined schemas for nested validation\n",
    "\n",
    "department_schema = Schema({\n",
    "    'name': CLEANED_STRING,\n",
    "    'employees': [employee_schema]\n",
    "})\n",
    "\n",
    "\n",
    "SALES_DEPT = {\n",
    "    'name': 'Sales',\n",
    "    'employees': [\n",
    "        {\n",
    "            'first_name': 'Barbara',\n",
    "            'last_name': 'Brown',\n",
    "            'birth_date': datetime.date(1985, 2, 5),\n",
    "            'job_start_date': datetime.date(1995, 7, 2),\n",
    "        },\n",
    "        {\n",
    "            'first_name': 'martin',\n",
    "            'last_name': 'anderson',\n",
    "            'birth_date': '1979-9-3',\n",
    "            'job_start_date': '1982-1-1',\n",
    "        },\n",
    "    ]\n",
    "}\n",
    "\n",
    "department_schema.validate(SALES_DEPT)"
   ]
  },
  {
   "cell_type": "code",
   "execution_count": null,
   "metadata": {},
   "outputs": [],
   "source": []
  }
 ],
 "metadata": {
  "kernelspec": {
   "display_name": "Python 3",
   "language": "python",
   "name": "python3"
  },
  "language_info": {
   "codemirror_mode": {
    "name": "ipython",
    "version": 3
   },
   "file_extension": ".py",
   "mimetype": "text/x-python",
   "name": "python",
   "nbconvert_exporter": "python",
   "pygments_lexer": "ipython3",
   "version": "3.8.4"
  }
 },
 "nbformat": 4,
 "nbformat_minor": 4
}
